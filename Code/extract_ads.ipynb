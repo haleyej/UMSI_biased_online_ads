{
 "cells": [
  {
   "cell_type": "code",
   "execution_count": 1,
   "id": "7c91897f",
   "metadata": {},
   "outputs": [],
   "source": [
    "import pandas as pd\n",
    "import numpy as np \n",
    "import os \n",
    "import matplotlib.pyplot as plt\n",
    "import matplotlib\n",
    "import cv2"
   ]
  },
  {
   "cell_type": "code",
   "execution_count": 2,
   "id": "eab432ff",
   "metadata": {},
   "outputs": [],
   "source": [
    "IMAGE_PATH = \"../Data/JPEGImages\""
   ]
  },
  {
   "cell_type": "code",
   "execution_count": 3,
   "id": "572f5f89",
   "metadata": {},
   "outputs": [],
   "source": [
    "MASK_PATH = \"../Data/predicted_masks\"\n",
    "mask_files = os.listdir(MASK_PATH)"
   ]
  },
  {
   "cell_type": "code",
   "execution_count": 4,
   "id": "70827638",
   "metadata": {},
   "outputs": [],
   "source": [
    "SAVE_PATH = \"../Data/ad_segments\""
   ]
  },
  {
   "cell_type": "code",
   "execution_count": 5,
   "id": "37bf2b20",
   "metadata": {},
   "outputs": [],
   "source": [
    "SHAPE = (512, 512)"
   ]
  },
  {
   "cell_type": "code",
   "execution_count": 6,
   "id": "fa5ee7c5",
   "metadata": {},
   "outputs": [],
   "source": [
    "def extract_ads(target, image_path = IMAGE_PATH, mask_path = MASK_PATH, save_path = SAVE_PATH, shape = SHAPE, pad = 1):\n",
    "    '''\n",
    "    Function to extract the location of ad(s) from a segmentation mask\n",
    "    and then crop the original image to just the ad(s)\n",
    "    \n",
    "    ARGS:\n",
    "        target = file name of the mask / image \n",
    "                (they have the same names for matching, just stored in \n",
    "                 different directories)\n",
    "        image_path = path to the directory with the screenshots / image data\n",
    "        mask_path = path to the directory with the segmentation masks\n",
    "        save_path = path to save the extracted ads to \n",
    "        shape = shape of all the data\n",
    "        \n",
    "    RETURNS:\n",
    "        Returns none, saves extracted ads to save_path directory\n",
    "        \n",
    "    '''\n",
    "    \n",
    "    if target not in os.listdir(image_path): \n",
    "        print(target)\n",
    "        return None\n",
    "    \n",
    "    img = cv2.imread(os.path.join(MASK_PATH, target))\n",
    "    actual = cv2.resize(cv2.imread(os.path.join(IMAGE_PATH, target)), shape)\n",
    "    \n",
    "    gray_img = cv2.cvtColor(img, cv2.COLOR_BGR2GRAY)\n",
    "    threshold = cv2.adaptiveThreshold(gray_img, 255, cv2.ADAPTIVE_THRESH_GAUSSIAN_C, cv2.THRESH_BINARY_INV, 51, 9)\n",
    "    \n",
    "    contours = cv2.findContours(threshold, cv2.RETR_EXTERNAL, cv2.CHAIN_APPROX_SIMPLE)\n",
    "    contours = contours[0] if len(contours) == 2 else contours[1]\n",
    "    \n",
    "    for c in contours:\n",
    "        cv2.drawContours(threshold, [c], -1, (255,255,255), -1)\n",
    "       \n",
    "    kernel = cv2.getStructuringElement(cv2.MORPH_RECT, (9, 9))\n",
    "    opening = cv2.morphologyEx(threshold, cv2.MORPH_OPEN, kernel, iterations = 4)\n",
    "    contours = cv2.findContours(opening, cv2.RETR_EXTERNAL, cv2.CHAIN_APPROX_SIMPLE)\n",
    "    contours = contours[0] if len(contours) == 2 else contours[1]\n",
    "    \n",
    "    for i in range(len(contours)):\n",
    "        c = contours[i]\n",
    "        x, y, w, h = cv2.boundingRect(c)\n",
    "        if pad > 0:\n",
    "            x, y, w, h = (x + pad), (y + pad), (w + pad), (h + pad)\n",
    "        cv2.rectangle(img, (x, y), (x + w, y + h), (36,255,12), 3)\n",
    "        cropped_image = actual[y:y + h, x:x + w]\n",
    "        \n",
    "        user_info = target.split(\".\")[0]\n",
    "        name = f\"{user_info}_ad_{i + 1}.png\"\n",
    "        \n",
    "        cv2.imwrite(os.path.join(save_path, name), cropped_image)"
   ]
  },
  {
   "cell_type": "code",
   "execution_count": 7,
   "id": "49d61214",
   "metadata": {},
   "outputs": [
    {
     "name": "stdout",
     "output_type": "stream",
     "text": [
      ".ipynb_checkpoints\n"
     ]
    }
   ],
   "source": [
    "for mask in mask_files:\n",
    "    extract_ads(mask)"
   ]
  }
 ],
 "metadata": {
  "kernelspec": {
   "display_name": "Python 3 (ipykernel)",
   "language": "python",
   "name": "python3"
  },
  "language_info": {
   "codemirror_mode": {
    "name": "ipython",
    "version": 3
   },
   "file_extension": ".py",
   "mimetype": "text/x-python",
   "name": "python",
   "nbconvert_exporter": "python",
   "pygments_lexer": "ipython3",
   "version": "3.9.16"
  }
 },
 "nbformat": 4,
 "nbformat_minor": 5
}
