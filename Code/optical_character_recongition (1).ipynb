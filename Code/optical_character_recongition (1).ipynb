{
  "nbformat": 4,
  "nbformat_minor": 0,
  "metadata": {
    "colab": {
      "provenance": []
    },
    "kernelspec": {
      "name": "python3",
      "display_name": "Python 3"
    },
    "language_info": {
      "name": "python"
    }
  },
  "cells": [
    {
      "cell_type": "markdown",
      "source": [
        "## OCR Model and Output\n",
        "\n",
        "Still needs a list of company names to cross reference dict output"
      ],
      "metadata": {
        "id": "DA1NbfUG2gJ-"
      }
    },
    {
      "cell_type": "code",
      "source": [
        "!sudo apt install tesseract-ocr\n",
        "!pip install pytesseract\n",
        "!pip install opencv-python\n",
        "!pip install lanms\n",
        "!pip install eastdetector\n",
        "import nltk\n",
        "nltk.download('words')\n",
        "from google.colab import drive\n",
        "import os \n",
        "drive.mount('/content/drive/', force_remount=True)\n",
        "os.chdir('/content/drive/Shareddrives/SICapstoneMicrosoft/ocr_proof_of_concept')\n",
        "import pytesseract\n",
        "import numpy\n",
        "import cv2\n",
        "from PIL import Image, ImageEnhance\n",
        "import string"
      ],
      "metadata": {
        "colab": {
          "base_uri": "https://localhost:8080/"
        },
        "id": "TgAxdqhmjlDI",
        "outputId": "15a2864e-a325-4fe9-fc7a-50f92cf32a41"
      },
      "execution_count": 5,
      "outputs": [
        {
          "output_type": "stream",
          "name": "stdout",
          "text": [
            "Reading package lists... Done\n",
            "Building dependency tree       \n",
            "Reading state information... Done\n",
            "tesseract-ocr is already the newest version (4.1.1-2build2).\n",
            "0 upgraded, 0 newly installed, 0 to remove and 24 not upgraded.\n",
            "Looking in indexes: https://pypi.org/simple, https://us-python.pkg.dev/colab-wheels/public/simple/\n",
            "Requirement already satisfied: pytesseract in /usr/local/lib/python3.9/dist-packages (0.3.10)\n",
            "Requirement already satisfied: packaging>=21.3 in /usr/local/lib/python3.9/dist-packages (from pytesseract) (23.1)\n",
            "Requirement already satisfied: Pillow>=8.0.0 in /usr/local/lib/python3.9/dist-packages (from pytesseract) (8.4.0)\n",
            "Looking in indexes: https://pypi.org/simple, https://us-python.pkg.dev/colab-wheels/public/simple/\n",
            "Requirement already satisfied: opencv-python in /usr/local/lib/python3.9/dist-packages (4.7.0.72)\n",
            "Requirement already satisfied: numpy>=1.17.3 in /usr/local/lib/python3.9/dist-packages (from opencv-python) (1.22.4)\n",
            "Looking in indexes: https://pypi.org/simple, https://us-python.pkg.dev/colab-wheels/public/simple/\n",
            "Requirement already satisfied: lanms in /usr/local/lib/python3.9/dist-packages (1.0.2)\n",
            "Requirement already satisfied: numpy in /usr/local/lib/python3.9/dist-packages (from lanms) (1.22.4)\n",
            "Looking in indexes: https://pypi.org/simple, https://us-python.pkg.dev/colab-wheels/public/simple/\n",
            "Requirement already satisfied: eastdetector in /usr/local/lib/python3.9/dist-packages (1.0.3)\n",
            "Requirement already satisfied: tensorflow>=1.15.2 in /usr/local/lib/python3.9/dist-packages (from eastdetector) (2.12.0)\n",
            "Requirement already satisfied: numpy in /usr/local/lib/python3.9/dist-packages (from eastdetector) (1.22.4)\n",
            "Requirement already satisfied: opencv-python in /usr/local/lib/python3.9/dist-packages (from eastdetector) (4.7.0.72)\n",
            "Requirement already satisfied: lanms in /usr/local/lib/python3.9/dist-packages (from eastdetector) (1.0.2)\n",
            "Requirement already satisfied: flatbuffers>=2.0 in /usr/local/lib/python3.9/dist-packages (from tensorflow>=1.15.2->eastdetector) (23.3.3)\n",
            "Requirement already satisfied: h5py>=2.9.0 in /usr/local/lib/python3.9/dist-packages (from tensorflow>=1.15.2->eastdetector) (3.8.0)\n",
            "Requirement already satisfied: packaging in /usr/local/lib/python3.9/dist-packages (from tensorflow>=1.15.2->eastdetector) (23.1)\n",
            "Requirement already satisfied: astunparse>=1.6.0 in /usr/local/lib/python3.9/dist-packages (from tensorflow>=1.15.2->eastdetector) (1.6.3)\n",
            "Requirement already satisfied: jax>=0.3.15 in /usr/local/lib/python3.9/dist-packages (from tensorflow>=1.15.2->eastdetector) (0.4.8)\n",
            "Requirement already satisfied: six>=1.12.0 in /usr/local/lib/python3.9/dist-packages (from tensorflow>=1.15.2->eastdetector) (1.16.0)\n",
            "Requirement already satisfied: termcolor>=1.1.0 in /usr/local/lib/python3.9/dist-packages (from tensorflow>=1.15.2->eastdetector) (2.2.0)\n",
            "Requirement already satisfied: tensorflow-estimator<2.13,>=2.12.0 in /usr/local/lib/python3.9/dist-packages (from tensorflow>=1.15.2->eastdetector) (2.12.0)\n",
            "Requirement already satisfied: gast<=0.4.0,>=0.2.1 in /usr/local/lib/python3.9/dist-packages (from tensorflow>=1.15.2->eastdetector) (0.4.0)\n",
            "Requirement already satisfied: opt-einsum>=2.3.2 in /usr/local/lib/python3.9/dist-packages (from tensorflow>=1.15.2->eastdetector) (3.3.0)\n",
            "Requirement already satisfied: wrapt<1.15,>=1.11.0 in /usr/local/lib/python3.9/dist-packages (from tensorflow>=1.15.2->eastdetector) (1.14.1)\n",
            "Requirement already satisfied: tensorflow-io-gcs-filesystem>=0.23.1 in /usr/local/lib/python3.9/dist-packages (from tensorflow>=1.15.2->eastdetector) (0.32.0)\n",
            "Requirement already satisfied: setuptools in /usr/local/lib/python3.9/dist-packages (from tensorflow>=1.15.2->eastdetector) (67.6.1)\n",
            "Requirement already satisfied: protobuf!=4.21.0,!=4.21.1,!=4.21.2,!=4.21.3,!=4.21.4,!=4.21.5,<5.0.0dev,>=3.20.3 in /usr/local/lib/python3.9/dist-packages (from tensorflow>=1.15.2->eastdetector) (3.20.3)\n",
            "Requirement already satisfied: grpcio<2.0,>=1.24.3 in /usr/local/lib/python3.9/dist-packages (from tensorflow>=1.15.2->eastdetector) (1.53.0)\n",
            "Requirement already satisfied: absl-py>=1.0.0 in /usr/local/lib/python3.9/dist-packages (from tensorflow>=1.15.2->eastdetector) (1.4.0)\n",
            "Requirement already satisfied: keras<2.13,>=2.12.0 in /usr/local/lib/python3.9/dist-packages (from tensorflow>=1.15.2->eastdetector) (2.12.0)\n",
            "Requirement already satisfied: google-pasta>=0.1.1 in /usr/local/lib/python3.9/dist-packages (from tensorflow>=1.15.2->eastdetector) (0.2.0)\n",
            "Requirement already satisfied: tensorboard<2.13,>=2.12 in /usr/local/lib/python3.9/dist-packages (from tensorflow>=1.15.2->eastdetector) (2.12.2)\n",
            "Requirement already satisfied: typing-extensions>=3.6.6 in /usr/local/lib/python3.9/dist-packages (from tensorflow>=1.15.2->eastdetector) (4.5.0)\n",
            "Requirement already satisfied: libclang>=13.0.0 in /usr/local/lib/python3.9/dist-packages (from tensorflow>=1.15.2->eastdetector) (16.0.0)\n",
            "Requirement already satisfied: wheel<1.0,>=0.23.0 in /usr/local/lib/python3.9/dist-packages (from astunparse>=1.6.0->tensorflow>=1.15.2->eastdetector) (0.40.0)\n",
            "Requirement already satisfied: scipy>=1.7 in /usr/local/lib/python3.9/dist-packages (from jax>=0.3.15->tensorflow>=1.15.2->eastdetector) (1.10.1)\n",
            "Requirement already satisfied: ml-dtypes>=0.0.3 in /usr/local/lib/python3.9/dist-packages (from jax>=0.3.15->tensorflow>=1.15.2->eastdetector) (0.1.0)\n",
            "Requirement already satisfied: tensorboard-data-server<0.8.0,>=0.7.0 in /usr/local/lib/python3.9/dist-packages (from tensorboard<2.13,>=2.12->tensorflow>=1.15.2->eastdetector) (0.7.0)\n",
            "Requirement already satisfied: tensorboard-plugin-wit>=1.6.0 in /usr/local/lib/python3.9/dist-packages (from tensorboard<2.13,>=2.12->tensorflow>=1.15.2->eastdetector) (1.8.1)\n",
            "Requirement already satisfied: google-auth<3,>=1.6.3 in /usr/local/lib/python3.9/dist-packages (from tensorboard<2.13,>=2.12->tensorflow>=1.15.2->eastdetector) (2.17.3)\n",
            "Requirement already satisfied: google-auth-oauthlib<1.1,>=0.5 in /usr/local/lib/python3.9/dist-packages (from tensorboard<2.13,>=2.12->tensorflow>=1.15.2->eastdetector) (1.0.0)\n",
            "Requirement already satisfied: requests<3,>=2.21.0 in /usr/local/lib/python3.9/dist-packages (from tensorboard<2.13,>=2.12->tensorflow>=1.15.2->eastdetector) (2.27.1)\n",
            "Requirement already satisfied: werkzeug>=1.0.1 in /usr/local/lib/python3.9/dist-packages (from tensorboard<2.13,>=2.12->tensorflow>=1.15.2->eastdetector) (2.2.3)\n",
            "Requirement already satisfied: markdown>=2.6.8 in /usr/local/lib/python3.9/dist-packages (from tensorboard<2.13,>=2.12->tensorflow>=1.15.2->eastdetector) (3.4.3)\n",
            "Requirement already satisfied: rsa<5,>=3.1.4 in /usr/local/lib/python3.9/dist-packages (from google-auth<3,>=1.6.3->tensorboard<2.13,>=2.12->tensorflow>=1.15.2->eastdetector) (4.9)\n",
            "Requirement already satisfied: cachetools<6.0,>=2.0.0 in /usr/local/lib/python3.9/dist-packages (from google-auth<3,>=1.6.3->tensorboard<2.13,>=2.12->tensorflow>=1.15.2->eastdetector) (5.3.0)\n",
            "Requirement already satisfied: pyasn1-modules>=0.2.1 in /usr/local/lib/python3.9/dist-packages (from google-auth<3,>=1.6.3->tensorboard<2.13,>=2.12->tensorflow>=1.15.2->eastdetector) (0.2.8)\n",
            "Requirement already satisfied: requests-oauthlib>=0.7.0 in /usr/local/lib/python3.9/dist-packages (from google-auth-oauthlib<1.1,>=0.5->tensorboard<2.13,>=2.12->tensorflow>=1.15.2->eastdetector) (1.3.1)\n",
            "Requirement already satisfied: importlib-metadata>=4.4 in /usr/local/lib/python3.9/dist-packages (from markdown>=2.6.8->tensorboard<2.13,>=2.12->tensorflow>=1.15.2->eastdetector) (6.4.1)\n",
            "Requirement already satisfied: urllib3<1.27,>=1.21.1 in /usr/local/lib/python3.9/dist-packages (from requests<3,>=2.21.0->tensorboard<2.13,>=2.12->tensorflow>=1.15.2->eastdetector) (1.26.15)\n",
            "Requirement already satisfied: charset-normalizer~=2.0.0 in /usr/local/lib/python3.9/dist-packages (from requests<3,>=2.21.0->tensorboard<2.13,>=2.12->tensorflow>=1.15.2->eastdetector) (2.0.12)\n",
            "Requirement already satisfied: idna<4,>=2.5 in /usr/local/lib/python3.9/dist-packages (from requests<3,>=2.21.0->tensorboard<2.13,>=2.12->tensorflow>=1.15.2->eastdetector) (3.4)\n",
            "Requirement already satisfied: certifi>=2017.4.17 in /usr/local/lib/python3.9/dist-packages (from requests<3,>=2.21.0->tensorboard<2.13,>=2.12->tensorflow>=1.15.2->eastdetector) (2022.12.7)\n",
            "Requirement already satisfied: MarkupSafe>=2.1.1 in /usr/local/lib/python3.9/dist-packages (from werkzeug>=1.0.1->tensorboard<2.13,>=2.12->tensorflow>=1.15.2->eastdetector) (2.1.2)\n",
            "Requirement already satisfied: zipp>=0.5 in /usr/local/lib/python3.9/dist-packages (from importlib-metadata>=4.4->markdown>=2.6.8->tensorboard<2.13,>=2.12->tensorflow>=1.15.2->eastdetector) (3.15.0)\n",
            "Requirement already satisfied: pyasn1<0.5.0,>=0.4.6 in /usr/local/lib/python3.9/dist-packages (from pyasn1-modules>=0.2.1->google-auth<3,>=1.6.3->tensorboard<2.13,>=2.12->tensorflow>=1.15.2->eastdetector) (0.4.8)\n",
            "Requirement already satisfied: oauthlib>=3.0.0 in /usr/local/lib/python3.9/dist-packages (from requests-oauthlib>=0.7.0->google-auth-oauthlib<1.1,>=0.5->tensorboard<2.13,>=2.12->tensorflow>=1.15.2->eastdetector) (3.2.2)\n"
          ]
        },
        {
          "output_type": "stream",
          "name": "stderr",
          "text": [
            "[nltk_data] Downloading package words to /root/nltk_data...\n",
            "[nltk_data]   Package words is already up-to-date!\n"
          ]
        },
        {
          "output_type": "stream",
          "name": "stdout",
          "text": [
            "Mounted at /content/drive/\n"
          ]
        }
      ]
    },
    {
      "cell_type": "code",
      "source": [
        "files = list(os.listdir())"
      ],
      "metadata": {
        "id": "Xye0qlIGlSRf"
      },
      "execution_count": 6,
      "outputs": []
    },
    {
      "cell_type": "code",
      "source": [
        "#only english words\n",
        "\n",
        "# define a list of allowed file extensions (error prevention)\n",
        "allowed_extensions = ['.jpg', '.png']\n",
        "\n",
        "# create an empty dictionary to store the text outputs\n",
        "text_outputs = {}\n",
        "\n",
        "# loop through all the files in the folder (runtime issues if we scale this up)\n",
        "for filename in os.listdir():\n",
        "    # check if the file has an allowed extension\n",
        "    if os.path.splitext(filename)[1] in allowed_extensions:\n",
        "        # open the image file using PIL (imported previously)\n",
        "        image = Image.open(filename)\n",
        "\n",
        "        # increase image contrast\n",
        "        enhancer = ImageEnhance.Contrast(image)\n",
        "        image = enhancer.enhance(5)  # adjust contrast factor as desired\n",
        "        \n",
        "        # convert the image to grayscale and apply thresholding to remove noise\n",
        "        gray = image.convert('L')\n",
        "        threshold_value = 225\n",
        "        thresholded = gray.point(lambda x: 255 * (x > threshold_value), mode='1')\n",
        "        \n",
        "        # extract text from the image using PyTesseract\n",
        "        text = pytesseract.image_to_string(thresholded)\n",
        "\n",
        "        text = text.replace('\\n', '')\n",
        "        words = text.split()\n",
        "\n",
        "        # remove any non-English words from the list\n",
        "        english_words = set(nltk.corpus.words.words())\n",
        "        words = [w for w in words if w.lower() in english_words]\n",
        "\n",
        "        # add the text output to the dictionary\n",
        "        text_outputs[filename] = words\n",
        "        text_outputs = {k:v for k,v in text_outputs.items() if v != []}\n",
        "    else:\n",
        "        # skip any files that are not image files\n",
        "        print(f\"Ignoring {filename} (not an image file)\")\n",
        "\n",
        "# print the dictionary\n",
        "print(text_outputs)"
      ],
      "metadata": {
        "id": "kIjCL-zOjGyl",
        "colab": {
          "base_uri": "https://localhost:8080/"
        },
        "outputId": "e41724aa-2f6d-4243-a854-4a69678c3e7b"
      },
      "execution_count": 7,
      "outputs": [
        {
          "output_type": "stream",
          "name": "stdout",
          "text": [
            "Ignoring .DS_Store (not an image file)\n",
            "{'user_22630_5.png': ['FANATICAL', 'BIG', 'on', 'Steam', 'Q'], 'user_22617_21.png': ['Minor', 'Joint'], 'user_22603_30.png': ['a', 'bas'], 'user_22614_17.png': ['Amazing'], 'user_22575_19.png': ['Be', 'the', 'first', 'to', 'know', 'with', 'Deal', 'us', 'know', 'which', 'or', 'you', 'like', 'below', 'and', 'alert', 'you', 'when', 'a', 'new', 'deal', 'is', 'the', 'Day', 'like', 'Create', 'your', 'own'], 'user_22597_26.png': ['NUMBER', 'NOW'], 'user_22568_18.png': ['Standard', 'ea', 'Puna'], 'user_22561_34.png': ['Lunch', 'life', 'Bell', 'More'], 'user_24481_38.png': ['big', 'with', 'these'], 'user_24462_26.png': ['Order'], 'user_24487_11.png': ['WIRELESS'], 'user_24517_31.png': ['Meta', 'YOUR', 'the', 'calling', 'device'], 'user_24515_4.png': ['DAYS', 'our', 'wide', 'assortment', 'of', 'designer', 'available', 'with'], 'user_24496_27.png': ['A', 'eR', 'link', 'you', 'share'], 'user_24533_17.png': ['wow'], 'user_24503_4.png': ['PATRIOT', 'HEALTH', 'Second', 'Ritual', 'Teeth', 'and']}\n"
          ]
        }
      ]
    },
    {
      "cell_type": "code",
      "source": [
        "#all strings without weird characters (may work better for proper nouns)\n",
        "\n",
        "# define a list of allowed file extensions (error prevention)\n",
        "allowed_extensions = ['.jpg', '.png']\n",
        "\n",
        "# create an empty dictionary to store the text outputs\n",
        "text_outputs = {}\n",
        "\n",
        "# loop through all the files in the folder (runtime issues if we scale this up)\n",
        "for filename in os.listdir():\n",
        "    # check if the file has an allowed extension\n",
        "    if os.path.splitext(filename)[1] in allowed_extensions:\n",
        "        # open the image file using PIL (imported previously)\n",
        "        image = Image.open(filename)\n",
        "\n",
        "        # increase image contrast\n",
        "        enhancer = ImageEnhance.Contrast(image)\n",
        "        image = enhancer.enhance(5)  # adjust contrast factor as desired\n",
        "        \n",
        "        # convert the image to grayscale and apply thresholding to remove noise\n",
        "        gray = image.convert('L')\n",
        "        threshold_value = 225\n",
        "        thresholded = gray.point(lambda x: 255 * (x > threshold_value), mode='1')\n",
        "        \n",
        "        # extract text from the image using PyTesseract\n",
        "        text = pytesseract.image_to_string(thresholded)\n",
        "\n",
        "        text = text.replace('\\n', '')\n",
        "        words = text.split()\n",
        "\n",
        "        # remove any words that contain non-alphabetic characters or symbols\n",
        "        words = [w for w in words if all(c in string.ascii_letters for c in w)]\n",
        "\n",
        "        # add the text output to the dictionary\n",
        "        text_outputs[filename] = words\n",
        "        text_outputs = {k:v for k,v in text_outputs.items() if v != []}\n",
        "    else:\n",
        "        # skip any files that are not image files\n",
        "        print(f\"Ignoring {filename} (not an image file)\")\n",
        "\n",
        "# print the dictionary\n",
        "print(text_outputs)"
      ],
      "metadata": {
        "id": "o2vDP-L7l_TE",
        "colab": {
          "base_uri": "https://localhost:8080/"
        },
        "outputId": "ecc5f6bf-2f0a-4e51-e1af-449b1cef6a9e"
      },
      "execution_count": 8,
      "outputs": [
        {
          "output_type": "stream",
          "name": "stdout",
          "text": [
            "Ignoring .DS_Store (not an image file)\n",
            "{'user_22630_5.png': ['FANATICAL', 'BIG', 'on', 'PC', 'Steam', 'Games', 'Q'], 'user_22617_21.png': ['Minor', 'Joint', 'Tvenor'], 'user_22603_30.png': ['a', 'eletee', 'eters', 'eee', 'bas', 'oc'], 'user_22614_17.png': ['Amazing', 'valueSaSupersonic'], 'user_22627_21.png': ['FV', 'TL', 'aesboars'], 'user_22575_19.png': ['Be', 'the', 'first', 'to', 'know', 'with', 'Deal', 'AlertsLet', 'us', 'know', 'which', 'categories', 'or', 'products', 'you', 'like', 'below', 'and', 'alert', 'you', 'when', 'a', 'new', 'deal', 'is', 'postedHome', 'Dealof', 'the', 'Day', 'Appl', 'like', 'Create', 'your', 'own'], 'user_22597_26.png': ['ATHE', 'NUMBER', 'THATCHANGED', 'EVERYTHINGSHOP', 'NOW'], 'user_22568_18.png': ['Standard', 'ea', 'acaSag', 'Puna'], 'user_22561_34.png': ['Lunch', 'deliveredWhen', 'life', 'gets', 'Bell', 'aets', 'ShiotLearn', 'More'], 'user_24481_38.png': ['Samsung', 'promo', 'codes', 'forAugust', 'big', 'with', 'these', 'Samsung', 'promocodes'], 'user_24462_26.png': ['Order', 'ahond', 'anthe', 'app'], 'user_24487_11.png': ['LcSHOP', 'NOWaaaPREMIUM', 'WIRELESS'], 'user_24498_19.png': ['ag', 'wagfee', 'agTr'], 'user_24517_31.png': ['Meta', 'PortalFREE', 'YOUR', 'LAPTOPWith', 'the', 'dedicated', 'smartvideo', 'calling', 'device'], 'user_24515_4.png': ['LENSCRAFTERSSUNNY', 'DAYS', 'AHEADDiecover', 'our', 'wide', 'assortment', 'of', 'designer', 'available', 'with', 'prateiption'], 'user_24506_19.png': ['feo', 'leag'], 'user_24496_27.png': ['A', 'eeaee', 'eR', 'celevery', 'link', 'you', 'share'], 'user_24533_17.png': ['FUIPZ', 'wow'], 'user_24503_4.png': ['PATRIOT', 'HEALTH', 'Second', 'Ritual', 'RebuildsYour', 'Teeth', 'and']}\n"
          ]
        }
      ]
    },
    {
      "cell_type": "code",
      "source": [],
      "metadata": {
        "id": "nijC_ByoR5ed"
      },
      "execution_count": null,
      "outputs": []
    }
  ]
}